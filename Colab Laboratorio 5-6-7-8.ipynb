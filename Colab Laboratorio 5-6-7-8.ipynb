#Este es el link del Colab
https://colab.research.google.com/drive/1qZknIadTEhQSooifDfglckwVM-WHnf19?usp=sharing

